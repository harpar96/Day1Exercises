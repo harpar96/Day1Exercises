{
 "cells": [
  {
   "cell_type": "code",
   "execution_count": 12,
   "id": "0b3d8970-5c4c-4811-ae9a-87b779c7528d",
   "metadata": {},
   "outputs": [
    {
     "name": "stdout",
     "output_type": "stream",
     "text": [
      "What is your favorite sport?\n"
     ]
    },
    {
     "name": "stdin",
     "output_type": "stream",
     "text": [
      "My favorite sport is basketball\n"
     ]
    },
    {
     "name": "stdout",
     "output_type": "stream",
     "text": [
      "basketball\n"
     ]
    }
   ],
   "source": [
    "print(\"What is your favorite sport?\")\n",
    "response = input(\"My favorite sport is\")\n",
    "print (response)"
   ]
  },
  {
   "cell_type": "code",
   "execution_count": 24,
   "id": "79b99996-d48c-4132-a97a-18f651cf7c1f",
   "metadata": {},
   "outputs": [
    {
     "name": "stdin",
     "output_type": "stream",
     "text": [
      "Enter a number:  10\n"
     ]
    },
    {
     "name": "stdout",
     "output_type": "stream",
     "text": [
      "11.0\n"
     ]
    }
   ],
   "source": [
    "user_input = input(\"Enter a number: \")\n",
    "response = float(user_input) + 1\n",
    "print(response)"
   ]
  },
  {
   "cell_type": "code",
   "execution_count": 25,
   "id": "7ab36ac1-c74b-4c33-af39-933162370d35",
   "metadata": {},
   "outputs": [
    {
     "name": "stdin",
     "output_type": "stream",
     "text": [
      "Enter a number:  10\n"
     ]
    },
    {
     "name": "stdout",
     "output_type": "stream",
     "text": [
      "10.5\n"
     ]
    }
   ],
   "source": [
    "user_input = input(\"Enter a number: \")\n",
    "response = float(user_input) + .5\n",
    "print(response)"
   ]
  },
  {
   "cell_type": "code",
   "execution_count": 30,
   "id": "029bb0ef-6f93-47e7-b9f1-4f1114bcd957",
   "metadata": {},
   "outputs": [
    {
     "name": "stdin",
     "output_type": "stream",
     "text": [
      "Enter a number:  10\n",
      "Enter a number:  1\n"
     ]
    },
    {
     "name": "stdout",
     "output_type": "stream",
     "text": [
      "11.0\n"
     ]
    }
   ],
   "source": [
    "user_input = input(\"Enter a number: \")\n",
    "user_input2 = input(\"Enter a number: \")\n",
    "response = float(user_input)\n",
    "response2 = float(user_input2)\n",
    "print(response + response2)"
   ]
  },
  {
   "cell_type": "code",
   "execution_count": 32,
   "id": "7e3d94cc-0186-4c69-91f1-150cc937fdaa",
   "metadata": {},
   "outputs": [
    {
     "name": "stdin",
     "output_type": "stream",
     "text": [
      "Enter a number:  10\n",
      "Enter a number:  20\n"
     ]
    },
    {
     "name": "stdout",
     "output_type": "stream",
     "text": [
      "200.0\n"
     ]
    }
   ],
   "source": [
    "user_input = input(\"Enter a number: \")\n",
    "user_input2 = input(\"Enter a number: \")\n",
    "response = float(user_input)\n",
    "response2 = float(user_input2)\n",
    "print(response * response2)\n",
    "\n"
   ]
  },
  {
   "cell_type": "code",
   "execution_count": 34,
   "id": "f22da3ca-cebe-4eb7-a093-0f2bae7a8198",
   "metadata": {},
   "outputs": [
    {
     "name": "stdin",
     "output_type": "stream",
     "text": [
      "Enter a number:  9\n",
      "Enter a number:  3\n"
     ]
    },
    {
     "name": "stdout",
     "output_type": "stream",
     "text": [
      "3.0\n"
     ]
    }
   ],
   "source": [
    "user_input = input(\"Enter a number: \")\n",
    "user_input2 = input(\"Enter a number: \")\n",
    "response = float(user_input)\n",
    "response2 = float(user_input2)\n",
    "print(response / response2)"
   ]
  },
  {
   "cell_type": "code",
   "execution_count": null,
   "id": "a1cba456-ab41-4f86-ae8b-34462adc806f",
   "metadata": {},
   "outputs": [],
   "source": []
  }
 ],
 "metadata": {
  "kernelspec": {
   "display_name": "Python 3 (ipykernel)",
   "language": "python",
   "name": "python3"
  },
  "language_info": {
   "codemirror_mode": {
    "name": "ipython",
    "version": 3
   },
   "file_extension": ".py",
   "mimetype": "text/x-python",
   "name": "python",
   "nbconvert_exporter": "python",
   "pygments_lexer": "ipython3",
   "version": "3.11.5"
  }
 },
 "nbformat": 4,
 "nbformat_minor": 5
}
